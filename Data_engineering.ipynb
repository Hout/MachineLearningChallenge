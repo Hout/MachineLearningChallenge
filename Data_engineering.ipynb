{
 "cells": [
  {
   "cell_type": "code",
   "execution_count": 1,
   "metadata": {
    "colab": {
     "base_uri": "https://localhost:8080/",
     "height": 833
    },
    "colab_type": "code",
    "id": "yxW0k8C2PWAE",
    "outputId": "11fbe901-7f8a-46ef-9e12-7b9644bd4a2a",
    "scrolled": true
   },
   "outputs": [
    {
     "name": "stdout",
     "output_type": "stream",
     "text": [
      "train: (199523, 42)\n",
      "test: (99762, 41)\n"
     ]
    },
    {
     "data": {
      "application/javascript": [
       "\n",
       "            setTimeout(function() {\n",
       "                var nbb_cell_id = 1;\n",
       "                var nbb_unformatted_code = \"%load_ext nb_black\\n\\nimport pandas as pd\\n\\ndfs = {\\n    \\\"train\\\": pd.read_csv(\\\"census-income.data\\\", header=None),\\n    \\\"test\\\": pd.read_csv(\\\"census-income.test\\\", header=None),\\n}\\n\\nfor name, df in dfs.items():\\n    print(f\\\"{name}: {df.shape}\\\")\";\n",
       "                var nbb_formatted_code = \"%load_ext nb_black\\n\\nimport pandas as pd\\n\\ndfs = {\\n    \\\"train\\\": pd.read_csv(\\\"census-income.data\\\", header=None),\\n    \\\"test\\\": pd.read_csv(\\\"census-income.test\\\", header=None),\\n}\\n\\nfor name, df in dfs.items():\\n    print(f\\\"{name}: {df.shape}\\\")\";\n",
       "                var nbb_cells = Jupyter.notebook.get_cells();\n",
       "                for (var i = 0; i < nbb_cells.length; ++i) {\n",
       "                    if (nbb_cells[i].input_prompt_number == nbb_cell_id) {\n",
       "                        if (nbb_cells[i].get_text() == nbb_unformatted_code) {\n",
       "                             nbb_cells[i].set_text(nbb_formatted_code);\n",
       "                        }\n",
       "                        break;\n",
       "                    }\n",
       "                }\n",
       "            }, 500);\n",
       "            "
      ],
      "text/plain": [
       "<IPython.core.display.Javascript object>"
      ]
     },
     "metadata": {},
     "output_type": "display_data"
    }
   ],
   "source": [
    "%load_ext nb_black\n",
    "\n",
    "import pandas as pd\n",
    "\n",
    "dfs = {\n",
    "    \"train\": pd.read_csv(\"census-income.data\", header=None),\n",
    "    \"test\": pd.read_csv(\"census-income.test\", header=None),\n",
    "}\n",
    "\n",
    "for name, df in dfs.items():\n",
    "    print(f\"{name}: {df.shape}\")"
   ]
  },
  {
   "cell_type": "raw",
   "metadata": {
    "colab_type": "text",
    "id": "4R9vhk1xZ4cT"
   },
   "source": [
    "42 columns in the training file where just 40 are expected according to the docs. \n",
    "\n",
    "Closer investigation shows that the data contain an extra column that is ignored: \"instance weight\". And it contains the predicted income bin that we will call \"Y\"). So we will add those fields. \n",
    "\n",
    "Equivalent with test data, except without the \"Y\"."
   ]
  },
  {
   "cell_type": "code",
   "execution_count": 2,
   "metadata": {
    "colab": {
     "base_uri": "https://localhost:8080/",
     "height": 574
    },
    "colab_type": "code",
    "id": "OFZ3eLTseEtn",
    "outputId": "3abac912-a278-49f2-c606-d74952f1ccf2"
   },
   "outputs": [
    {
     "name": "stdout",
     "output_type": "stream",
     "text": [
      "train:    age                  class of worker  detailed industry recode  \\\n",
      "0   73                  Not in universe                         0   \n",
      "1   58   Self-employed-not incorporated                         4   \n",
      "2   18                  Not in universe                         0   \n",
      "3    9                  Not in universe                         0   \n",
      "4   10                  Not in universe                         0   \n",
      "\n",
      "   detailed occupation recode                    education  wage per hour  \\\n",
      "0                           0         High school graduate              0   \n",
      "1                          34   Some college but no degree              0   \n",
      "2                           0                   10th grade              0   \n",
      "3                           0                     Children              0   \n",
      "4                           0                     Children              0   \n",
      "\n",
      "  enroll in edu inst last wk    marital stat           major industry code  \\\n",
      "0            Not in universe         Widowed   Not in universe or children   \n",
      "1            Not in universe        Divorced                  Construction   \n",
      "2                High school   Never married   Not in universe or children   \n",
      "3            Not in universe   Never married   Not in universe or children   \n",
      "4            Not in universe   Never married   Not in universe or children   \n",
      "\n",
      "                  major occupation code  ... country of birth father  \\\n",
      "0                       Not in universe  ...           United-States   \n",
      "1   Precision production craft & repair  ...           United-States   \n",
      "2                       Not in universe  ...                 Vietnam   \n",
      "3                       Not in universe  ...           United-States   \n",
      "4                       Not in universe  ...           United-States   \n",
      "\n",
      "  country of birth mother country of birth self  \\\n",
      "0           United-States         United-States   \n",
      "1           United-States         United-States   \n",
      "2                 Vietnam               Vietnam   \n",
      "3           United-States         United-States   \n",
      "4           United-States         United-States   \n",
      "\n",
      "                            citizenship own business or self employed  \\\n",
      "0     Native- Born in the United States                             0   \n",
      "1     Native- Born in the United States                             0   \n",
      "2   Foreign born- Not a citizen of U S                              0   \n",
      "3     Native- Born in the United States                             0   \n",
      "4     Native- Born in the United States                             0   \n",
      "\n",
      "  fill inc questionnaire for veteran's admin  veterans benefits  \\\n",
      "0                            Not in universe                  2   \n",
      "1                            Not in universe                  2   \n",
      "2                            Not in universe                  2   \n",
      "3                            Not in universe                  0   \n",
      "4                            Not in universe                  0   \n",
      "\n",
      "   weeks worked in year  year          Y  \n",
      "0                     0    95   - 50000.  \n",
      "1                    52    94   - 50000.  \n",
      "2                     0    95   - 50000.  \n",
      "3                     0    94   - 50000.  \n",
      "4                     0    94   - 50000.  \n",
      "\n",
      "[5 rows x 42 columns]\n",
      "test:    age                 class of worker  detailed industry recode  \\\n",
      "0   38                         Private                         6   \n",
      "1   44  Self-employed-not incorporated                        37   \n",
      "2    2                 Not in universe                         0   \n",
      "3   35                         Private                        29   \n",
      "4   49                         Private                         4   \n",
      "\n",
      "   detailed occupation recode                            education  \\\n",
      "0                          36             1st 2nd 3rd or 4th grade   \n",
      "1                          12  Associates degree-occup /vocational   \n",
      "2                           0                             Children   \n",
      "3                           3                 High school graduate   \n",
      "4                          34                 High school graduate   \n",
      "\n",
      "   wage per hour enroll in edu inst last wk                     marital stat  \\\n",
      "0              0            Not in universe  Married-civilian spouse present   \n",
      "1              0            Not in universe  Married-civilian spouse present   \n",
      "2              0            Not in universe                    Never married   \n",
      "3              0            Not in universe                         Divorced   \n",
      "4              0            Not in universe                         Divorced   \n",
      "\n",
      "            major industry code                  major occupation code  ...  \\\n",
      "0   Manufacturing-durable goods  Machine operators assmblrs & inspctrs  ...   \n",
      "1  Business and repair services                 Professional specialty  ...   \n",
      "2   Not in universe or children                        Not in universe  ...   \n",
      "3                Transportation         Executive admin and managerial  ...   \n",
      "4                  Construction    Precision production craft & repair  ...   \n",
      "\n",
      "  family members under 18 country of birth father country of birth mother  \\\n",
      "0         Not in universe                  Mexico                  Mexico   \n",
      "1         Not in universe           United-States           United-States   \n",
      "2    Both parents present           United-States           United-States   \n",
      "3         Not in universe           United-States           United-States   \n",
      "4         Not in universe           United-States           United-States   \n",
      "\n",
      "  country of birth self                          citizenship  \\\n",
      "0                Mexico  Foreign born- Not a citizen of U S    \n",
      "1         United-States    Native- Born in the United States   \n",
      "2         United-States    Native- Born in the United States   \n",
      "3         United-States    Native- Born in the United States   \n",
      "4         United-States    Native- Born in the United States   \n",
      "\n",
      "  own business or self employed  fill inc questionnaire for veteran's admin  \\\n",
      "0                             0                             Not in universe   \n",
      "1                             0                             Not in universe   \n",
      "2                             0                             Not in universe   \n",
      "3                             2                             Not in universe   \n",
      "4                             0                             Not in universe   \n",
      "\n",
      "   veterans benefits  weeks worked in year year  \n",
      "0                  2                    12   95  \n",
      "1                  2                    26   95  \n",
      "2                  0                     0   95  \n",
      "3                  2                    52   94  \n",
      "4                  2                    50   95  \n",
      "\n",
      "[5 rows x 41 columns]\n"
     ]
    },
    {
     "data": {
      "application/javascript": [
       "\n",
       "            setTimeout(function() {\n",
       "                var nbb_cell_id = 2;\n",
       "                var nbb_unformatted_code = \"column_headers = [\\n    \\\"age\\\",\\n    \\\"class of worker\\\",\\n    \\\"detailed industry recode\\\",\\n    \\\"detailed occupation recode\\\",\\n    \\\"education\\\",\\n    \\\"wage per hour\\\",\\n    \\\"enroll in edu inst last wk\\\",\\n    \\\"marital stat\\\",\\n    \\\"major industry code\\\",\\n    \\\"major occupation code\\\",\\n    \\\"race\\\",\\n    \\\"hispanic origin\\\",\\n    \\\"sex\\\",\\n    \\\"member of a labor union\\\",\\n    \\\"reason for unemployment\\\",\\n    \\\"full or part time employment stat\\\",\\n    \\\"capital gains\\\",\\n    \\\"capital losses\\\",\\n    \\\"dividends from stocks\\\",\\n    \\\"tax filer stat\\\",\\n    \\\"region of previous residence\\\",\\n    \\\"state of previous residence\\\",\\n    \\\"detailed household and family stat\\\",\\n    \\\"detailed household summary in household\\\",\\n    \\\"_instance weight\\\",\\n    \\\"migration code-change in msa\\\",\\n    \\\"migration code-change in reg\\\",\\n    \\\"migration code-move within reg\\\",\\n    \\\"live in this house 1 year ago\\\",\\n    \\\"migration prev res in sunbelt\\\",\\n    \\\"num persons worked for employer\\\",\\n    \\\"family members under 18\\\",\\n    \\\"country of birth father\\\",\\n    \\\"country of birth mother\\\",\\n    \\\"country of birth self\\\",\\n    \\\"citizenship\\\",\\n    \\\"own business or self employed\\\",\\n    \\\"fill inc questionnaire for veteran's admin\\\",\\n    \\\"veterans benefits\\\",\\n    \\\"weeks worked in year\\\",\\n    \\\"year\\\",\\n]\\ndfs[\\\"test\\\"].columns = column_headers\\ndfs[\\\"train\\\"].columns = column_headers + [\\\"Y\\\"]\\n\\nfor name, df in dfs.items():\\n    print(f\\\"{name}: {df.head()}\\\")\";\n",
       "                var nbb_formatted_code = \"column_headers = [\\n    \\\"age\\\",\\n    \\\"class of worker\\\",\\n    \\\"detailed industry recode\\\",\\n    \\\"detailed occupation recode\\\",\\n    \\\"education\\\",\\n    \\\"wage per hour\\\",\\n    \\\"enroll in edu inst last wk\\\",\\n    \\\"marital stat\\\",\\n    \\\"major industry code\\\",\\n    \\\"major occupation code\\\",\\n    \\\"race\\\",\\n    \\\"hispanic origin\\\",\\n    \\\"sex\\\",\\n    \\\"member of a labor union\\\",\\n    \\\"reason for unemployment\\\",\\n    \\\"full or part time employment stat\\\",\\n    \\\"capital gains\\\",\\n    \\\"capital losses\\\",\\n    \\\"dividends from stocks\\\",\\n    \\\"tax filer stat\\\",\\n    \\\"region of previous residence\\\",\\n    \\\"state of previous residence\\\",\\n    \\\"detailed household and family stat\\\",\\n    \\\"detailed household summary in household\\\",\\n    \\\"_instance weight\\\",\\n    \\\"migration code-change in msa\\\",\\n    \\\"migration code-change in reg\\\",\\n    \\\"migration code-move within reg\\\",\\n    \\\"live in this house 1 year ago\\\",\\n    \\\"migration prev res in sunbelt\\\",\\n    \\\"num persons worked for employer\\\",\\n    \\\"family members under 18\\\",\\n    \\\"country of birth father\\\",\\n    \\\"country of birth mother\\\",\\n    \\\"country of birth self\\\",\\n    \\\"citizenship\\\",\\n    \\\"own business or self employed\\\",\\n    \\\"fill inc questionnaire for veteran's admin\\\",\\n    \\\"veterans benefits\\\",\\n    \\\"weeks worked in year\\\",\\n    \\\"year\\\",\\n]\\ndfs[\\\"test\\\"].columns = column_headers\\ndfs[\\\"train\\\"].columns = column_headers + [\\\"Y\\\"]\\n\\nfor name, df in dfs.items():\\n    print(f\\\"{name}: {df.head()}\\\")\";\n",
       "                var nbb_cells = Jupyter.notebook.get_cells();\n",
       "                for (var i = 0; i < nbb_cells.length; ++i) {\n",
       "                    if (nbb_cells[i].input_prompt_number == nbb_cell_id) {\n",
       "                        if (nbb_cells[i].get_text() == nbb_unformatted_code) {\n",
       "                             nbb_cells[i].set_text(nbb_formatted_code);\n",
       "                        }\n",
       "                        break;\n",
       "                    }\n",
       "                }\n",
       "            }, 500);\n",
       "            "
      ],
      "text/plain": [
       "<IPython.core.display.Javascript object>"
      ]
     },
     "metadata": {},
     "output_type": "display_data"
    }
   ],
   "source": [
    "column_headers = [\n",
    "    \"age\",\n",
    "    \"class of worker\",\n",
    "    \"detailed industry recode\",\n",
    "    \"detailed occupation recode\",\n",
    "    \"education\",\n",
    "    \"wage per hour\",\n",
    "    \"enroll in edu inst last wk\",\n",
    "    \"marital stat\",\n",
    "    \"major industry code\",\n",
    "    \"major occupation code\",\n",
    "    \"race\",\n",
    "    \"hispanic origin\",\n",
    "    \"sex\",\n",
    "    \"member of a labor union\",\n",
    "    \"reason for unemployment\",\n",
    "    \"full or part time employment stat\",\n",
    "    \"capital gains\",\n",
    "    \"capital losses\",\n",
    "    \"dividends from stocks\",\n",
    "    \"tax filer stat\",\n",
    "    \"region of previous residence\",\n",
    "    \"state of previous residence\",\n",
    "    \"detailed household and family stat\",\n",
    "    \"detailed household summary in household\",\n",
    "    \"_instance weight\",\n",
    "    \"migration code-change in msa\",\n",
    "    \"migration code-change in reg\",\n",
    "    \"migration code-move within reg\",\n",
    "    \"live in this house 1 year ago\",\n",
    "    \"migration prev res in sunbelt\",\n",
    "    \"num persons worked for employer\",\n",
    "    \"family members under 18\",\n",
    "    \"country of birth father\",\n",
    "    \"country of birth mother\",\n",
    "    \"country of birth self\",\n",
    "    \"citizenship\",\n",
    "    \"own business or self employed\",\n",
    "    \"fill inc questionnaire for veteran's admin\",\n",
    "    \"veterans benefits\",\n",
    "    \"weeks worked in year\",\n",
    "    \"year\",\n",
    "]\n",
    "dfs[\"test\"].columns = column_headers\n",
    "dfs[\"train\"].columns = column_headers + [\"Y\"]\n",
    "\n",
    "for name, df in dfs.items():\n",
    "    print(f\"{name}: {df.head()}\")"
   ]
  },
  {
   "cell_type": "markdown",
   "metadata": {
    "colab_type": "text",
    "id": "pTZYta9xlxjT"
   },
   "source": [
    "That looks better! \n",
    "First check for NA values."
   ]
  },
  {
   "cell_type": "code",
   "execution_count": 3,
   "metadata": {
    "colab": {
     "base_uri": "https://localhost:8080/",
     "height": 764
    },
    "colab_type": "code",
    "id": "Tjk8Dr6QpYLd",
    "outputId": "22260636-26fe-4428-ea79-90a5e02d66a5"
   },
   "outputs": [
    {
     "name": "stdout",
     "output_type": "stream",
     "text": [
      "test/hispanic origin: 405\n",
      "test/state of previous residence: 330\n",
      "test/migration code-change in msa: 49946\n",
      "test/migration code-change in reg: 49946\n",
      "test/migration code-move within reg: 49946\n",
      "test/migration prev res in sunbelt: 49946\n",
      "test/country of birth father: 3429\n",
      "test/country of birth mother: 3072\n",
      "test/country of birth self: 1764\n"
     ]
    },
    {
     "data": {
      "application/javascript": [
       "\n",
       "            setTimeout(function() {\n",
       "                var nbb_cell_id = 3;\n",
       "                var nbb_unformatted_code = \"for name, df in dfs.items():\\n    s = df.isnull().sum(axis=0)\\n    na_cols = [(i, c) for i, c in s.items() if c > 0]\\n    for na_col in na_cols:\\n        print(f\\\"{name}/{na_col[0]}: {na_col[1]}\\\")\";\n",
       "                var nbb_formatted_code = \"for name, df in dfs.items():\\n    s = df.isnull().sum(axis=0)\\n    na_cols = [(i, c) for i, c in s.items() if c > 0]\\n    for na_col in na_cols:\\n        print(f\\\"{name}/{na_col[0]}: {na_col[1]}\\\")\";\n",
       "                var nbb_cells = Jupyter.notebook.get_cells();\n",
       "                for (var i = 0; i < nbb_cells.length; ++i) {\n",
       "                    if (nbb_cells[i].input_prompt_number == nbb_cell_id) {\n",
       "                        if (nbb_cells[i].get_text() == nbb_unformatted_code) {\n",
       "                             nbb_cells[i].set_text(nbb_formatted_code);\n",
       "                        }\n",
       "                        break;\n",
       "                    }\n",
       "                }\n",
       "            }, 500);\n",
       "            "
      ],
      "text/plain": [
       "<IPython.core.display.Javascript object>"
      ]
     },
     "metadata": {},
     "output_type": "display_data"
    }
   ],
   "source": [
    "for name, df in dfs.items():\n",
    "    s = df.isnull().sum(axis=0)\n",
    "    na_cols = [(i, c) for i, c in s.items() if c > 0]\n",
    "    for na_col in na_cols:\n",
    "        print(f\"{name}/{na_col[0]}: {na_col[1]}\")"
   ]
  },
  {
   "cell_type": "markdown",
   "metadata": {
    "colab_type": "text",
    "id": "O_rDEoTbvQyI"
   },
   "source": [
    "No NA's in the training data that is good.\n",
    "However some test data have NA's\n",
    "\n",
    "We will create dummies for the categories, NA's will have 0 values for all categories in a feature."
   ]
  },
  {
   "cell_type": "code",
   "execution_count": 4,
   "metadata": {
    "colab": {},
    "colab_type": "code",
    "id": "oTPCWgxlwKTZ"
   },
   "outputs": [
    {
     "name": "stdout",
     "output_type": "stream",
     "text": [
      "train: (199523, 411)\n",
      "test: (99762, 399)\n"
     ]
    },
    {
     "data": {
      "application/javascript": [
       "\n",
       "            setTimeout(function() {\n",
       "                var nbb_cell_id = 4;\n",
       "                var nbb_unformatted_code = \"dfs2 = {}\\nfor name, df in dfs.items():\\n    cats = df.select_dtypes([\\\"object\\\"])\\n\\n    df[cats.columns] = cats.apply(lambda x: x.str.strip())\\n    dfs2[name] = pd.get_dummies(df, prefix=cats.columns, columns=cats.columns)\\n\\nfor name, df in dfs2.items():\\n    print(f\\\"{name}: {df.shape}\\\")\";\n",
       "                var nbb_formatted_code = \"dfs2 = {}\\nfor name, df in dfs.items():\\n    cats = df.select_dtypes([\\\"object\\\"])\\n\\n    df[cats.columns] = cats.apply(lambda x: x.str.strip())\\n    dfs2[name] = pd.get_dummies(df, prefix=cats.columns, columns=cats.columns)\\n\\nfor name, df in dfs2.items():\\n    print(f\\\"{name}: {df.shape}\\\")\";\n",
       "                var nbb_cells = Jupyter.notebook.get_cells();\n",
       "                for (var i = 0; i < nbb_cells.length; ++i) {\n",
       "                    if (nbb_cells[i].input_prompt_number == nbb_cell_id) {\n",
       "                        if (nbb_cells[i].get_text() == nbb_unformatted_code) {\n",
       "                             nbb_cells[i].set_text(nbb_formatted_code);\n",
       "                        }\n",
       "                        break;\n",
       "                    }\n",
       "                }\n",
       "            }, 500);\n",
       "            "
      ],
      "text/plain": [
       "<IPython.core.display.Javascript object>"
      ]
     },
     "metadata": {},
     "output_type": "display_data"
    }
   ],
   "source": [
    "dfs2 = {}\n",
    "for name, df in dfs.items():\n",
    "    cats = df.select_dtypes([\"object\"])\n",
    "\n",
    "    df[cats.columns] = cats.apply(lambda x: x.str.strip())\n",
    "    dfs2[name] = pd.get_dummies(df, prefix=cats.columns, columns=cats.columns)\n",
    "\n",
    "for name, df in dfs2.items():\n",
    "    print(f\"{name}: {df.shape}\")"
   ]
  },
  {
   "cell_type": "markdown",
   "metadata": {},
   "source": [
    "Hmmm many different column sizes, let us see the differences"
   ]
  },
  {
   "cell_type": "code",
   "execution_count": 5,
   "metadata": {},
   "outputs": [
    {
     "data": {
      "text/plain": [
       "['Y_- 50000.',\n",
       " 'Y_50000+.',\n",
       " 'country of birth father_?',\n",
       " 'country of birth mother_?',\n",
       " 'country of birth self_?',\n",
       " 'detailed household and family stat_Grandchild <18 ever marr not in subfamily',\n",
       " 'hispanic origin_NA',\n",
       " 'migration code-change in msa_?',\n",
       " 'migration code-change in reg_?',\n",
       " 'migration code-move within reg_?',\n",
       " 'migration prev res in sunbelt_?',\n",
       " 'state of previous residence_?']"
      ]
     },
     "execution_count": 5,
     "metadata": {},
     "output_type": "execute_result"
    },
    {
     "data": {
      "application/javascript": [
       "\n",
       "            setTimeout(function() {\n",
       "                var nbb_cell_id = 5;\n",
       "                var nbb_unformatted_code = \"extra_cols = sorted(list(set(dfs2[\\\"train\\\"].columns) - set(dfs2[\\\"test\\\"].columns)))\\nextra_cols\";\n",
       "                var nbb_formatted_code = \"extra_cols = sorted(list(set(dfs2[\\\"train\\\"].columns) - set(dfs2[\\\"test\\\"].columns)))\\nextra_cols\";\n",
       "                var nbb_cells = Jupyter.notebook.get_cells();\n",
       "                for (var i = 0; i < nbb_cells.length; ++i) {\n",
       "                    if (nbb_cells[i].input_prompt_number == nbb_cell_id) {\n",
       "                        if (nbb_cells[i].get_text() == nbb_unformatted_code) {\n",
       "                             nbb_cells[i].set_text(nbb_formatted_code);\n",
       "                        }\n",
       "                        break;\n",
       "                    }\n",
       "                }\n",
       "            }, 500);\n",
       "            "
      ],
      "text/plain": [
       "<IPython.core.display.Javascript object>"
      ]
     },
     "metadata": {},
     "output_type": "display_data"
    }
   ],
   "source": [
    "extra_cols = sorted(list(set(dfs2[\"train\"].columns) - set(dfs2[\"test\"].columns)))\n",
    "extra_cols"
   ]
  },
  {
   "cell_type": "markdown",
   "metadata": {},
   "source": [
    "The Y columns make sense, the others can be removed"
   ]
  },
  {
   "cell_type": "code",
   "execution_count": 6,
   "metadata": {},
   "outputs": [
    {
     "data": {
      "text/plain": [
       "(199523, 401)"
      ]
     },
     "execution_count": 6,
     "metadata": {},
     "output_type": "execute_result"
    },
    {
     "data": {
      "application/javascript": [
       "\n",
       "            setTimeout(function() {\n",
       "                var nbb_cell_id = 6;\n",
       "                var nbb_unformatted_code = \"dfs2[\\\"train\\\"].drop(columns=extra_cols[2:], inplace=True)\\ndfs2[\\\"train\\\"].shape\";\n",
       "                var nbb_formatted_code = \"dfs2[\\\"train\\\"].drop(columns=extra_cols[2:], inplace=True)\\ndfs2[\\\"train\\\"].shape\";\n",
       "                var nbb_cells = Jupyter.notebook.get_cells();\n",
       "                for (var i = 0; i < nbb_cells.length; ++i) {\n",
       "                    if (nbb_cells[i].input_prompt_number == nbb_cell_id) {\n",
       "                        if (nbb_cells[i].get_text() == nbb_unformatted_code) {\n",
       "                             nbb_cells[i].set_text(nbb_formatted_code);\n",
       "                        }\n",
       "                        break;\n",
       "                    }\n",
       "                }\n",
       "            }, 500);\n",
       "            "
      ],
      "text/plain": [
       "<IPython.core.display.Javascript object>"
      ]
     },
     "metadata": {},
     "output_type": "display_data"
    }
   ],
   "source": [
    "dfs2[\"train\"].drop(columns=extra_cols[2:], inplace=True)\n",
    "dfs2[\"train\"].shape"
   ]
  },
  {
   "cell_type": "markdown",
   "metadata": {
    "colab_type": "text",
    "id": "N8P3FJeQrQ_P"
   },
   "source": [
    "Actually the Y column is a binary column so we will remove the column \"Y_- 50000.\" as it is complemetary with the \"Y_50000+.\". The rename it to Y again."
   ]
  },
  {
   "cell_type": "code",
   "execution_count": 7,
   "metadata": {
    "colab": {
     "base_uri": "https://localhost:8080/",
     "height": 342
    },
    "colab_type": "code",
    "id": "8MFgHlWmROsj",
    "outputId": "e8537eaa-bfa1-4d78-a4ff-d7bd34ed902b"
   },
   "outputs": [
    {
     "data": {
      "text/plain": [
       "0    0\n",
       "1    0\n",
       "2    0\n",
       "3    0\n",
       "4    0\n",
       "Name: Y, dtype: uint8"
      ]
     },
     "execution_count": 7,
     "metadata": {},
     "output_type": "execute_result"
    },
    {
     "data": {
      "application/javascript": [
       "\n",
       "            setTimeout(function() {\n",
       "                var nbb_cell_id = 7;\n",
       "                var nbb_unformatted_code = \"dfs2[\\\"train\\\"].drop(columns=\\\"Y_- 50000.\\\", axis=1, inplace=True)\\ndfs2[\\\"train\\\"].rename({\\\"Y_50000+.\\\": \\\"Y\\\"}, inplace=True, axis=1)\\ndfs2[\\\"train\\\"][\\\"Y\\\"].head()\";\n",
       "                var nbb_formatted_code = \"dfs2[\\\"train\\\"].drop(columns=\\\"Y_- 50000.\\\", axis=1, inplace=True)\\ndfs2[\\\"train\\\"].rename({\\\"Y_50000+.\\\": \\\"Y\\\"}, inplace=True, axis=1)\\ndfs2[\\\"train\\\"][\\\"Y\\\"].head()\";\n",
       "                var nbb_cells = Jupyter.notebook.get_cells();\n",
       "                for (var i = 0; i < nbb_cells.length; ++i) {\n",
       "                    if (nbb_cells[i].input_prompt_number == nbb_cell_id) {\n",
       "                        if (nbb_cells[i].get_text() == nbb_unformatted_code) {\n",
       "                             nbb_cells[i].set_text(nbb_formatted_code);\n",
       "                        }\n",
       "                        break;\n",
       "                    }\n",
       "                }\n",
       "            }, 500);\n",
       "            "
      ],
      "text/plain": [
       "<IPython.core.display.Javascript object>"
      ]
     },
     "metadata": {},
     "output_type": "display_data"
    }
   ],
   "source": [
    "dfs2[\"train\"].drop(columns=\"Y_- 50000.\", axis=1, inplace=True)\n",
    "dfs2[\"train\"].rename({\"Y_50000+.\": \"Y\"}, inplace=True, axis=1)\n",
    "dfs2[\"train\"][\"Y\"].head()"
   ]
  },
  {
   "cell_type": "markdown",
   "metadata": {},
   "source": [
    "Fine, and remove ignorable \"_instance weight\" col"
   ]
  },
  {
   "cell_type": "code",
   "execution_count": 8,
   "metadata": {},
   "outputs": [
    {
     "name": "stdout",
     "output_type": "stream",
     "text": [
      "train: (199523, 399)\n",
      "test: (99762, 398)\n"
     ]
    },
    {
     "data": {
      "application/javascript": [
       "\n",
       "            setTimeout(function() {\n",
       "                var nbb_cell_id = 8;\n",
       "                var nbb_unformatted_code = \"for name, df in dfs2.items():\\n    df.drop(columns=\\\"_instance weight\\\", inplace=True, axis=1)\\n    print(f\\\"{name}: {df.shape}\\\")\";\n",
       "                var nbb_formatted_code = \"for name, df in dfs2.items():\\n    df.drop(columns=\\\"_instance weight\\\", inplace=True, axis=1)\\n    print(f\\\"{name}: {df.shape}\\\")\";\n",
       "                var nbb_cells = Jupyter.notebook.get_cells();\n",
       "                for (var i = 0; i < nbb_cells.length; ++i) {\n",
       "                    if (nbb_cells[i].input_prompt_number == nbb_cell_id) {\n",
       "                        if (nbb_cells[i].get_text() == nbb_unformatted_code) {\n",
       "                             nbb_cells[i].set_text(nbb_formatted_code);\n",
       "                        }\n",
       "                        break;\n",
       "                    }\n",
       "                }\n",
       "            }, 500);\n",
       "            "
      ],
      "text/plain": [
       "<IPython.core.display.Javascript object>"
      ]
     },
     "metadata": {},
     "output_type": "display_data"
    }
   ],
   "source": [
    "for name, df in dfs2.items():\n",
    "    df.drop(columns=\"_instance weight\", inplace=True, axis=1)\n",
    "    print(f\"{name}: {df.shape}\")"
   ]
  },
  {
   "cell_type": "markdown",
   "metadata": {},
   "source": [
    "And let us check for more NA like columns"
   ]
  },
  {
   "cell_type": "code",
   "execution_count": 9,
   "metadata": {},
   "outputs": [
    {
     "name": "stdout",
     "output_type": "stream",
     "text": [
      "<class 'pandas.core.frame.DataFrame'>\n",
      "RangeIndex: 199523 entries, 0 to 199522\n",
      "Data columns (total 399 columns):\n",
      " #   Column                                                                              Dtype\n",
      "---  ------                                                                              -----\n",
      " 0   age                                                                                 int64\n",
      " 1   detailed industry recode                                                            int64\n",
      " 2   detailed occupation recode                                                          int64\n",
      " 3   wage per hour                                                                       int64\n",
      " 4   capital gains                                                                       int64\n",
      " 5   capital losses                                                                      int64\n",
      " 6   dividends from stocks                                                               int64\n",
      " 7   num persons worked for employer                                                     int64\n",
      " 8   own business or self employed                                                       int64\n",
      " 9   veterans benefits                                                                   int64\n",
      " 10  weeks worked in year                                                                int64\n",
      " 11  year                                                                                int64\n",
      " 12  class of worker_Federal government                                                  uint8\n",
      " 13  class of worker_Local government                                                    uint8\n",
      " 14  class of worker_Never worked                                                        uint8\n",
      " 15  class of worker_Not in universe                                                     uint8\n",
      " 16  class of worker_Private                                                             uint8\n",
      " 17  class of worker_Self-employed-incorporated                                          uint8\n",
      " 18  class of worker_Self-employed-not incorporated                                      uint8\n",
      " 19  class of worker_State government                                                    uint8\n",
      " 20  class of worker_Without pay                                                         uint8\n",
      " 21  education_10th grade                                                                uint8\n",
      " 22  education_11th grade                                                                uint8\n",
      " 23  education_12th grade no diploma                                                     uint8\n",
      " 24  education_1st 2nd 3rd or 4th grade                                                  uint8\n",
      " 25  education_5th or 6th grade                                                          uint8\n",
      " 26  education_7th and 8th grade                                                         uint8\n",
      " 27  education_9th grade                                                                 uint8\n",
      " 28  education_Associates degree-academic program                                        uint8\n",
      " 29  education_Associates degree-occup /vocational                                       uint8\n",
      " 30  education_Bachelors degree(BA AB BS)                                                uint8\n",
      " 31  education_Children                                                                  uint8\n",
      " 32  education_Doctorate degree(PhD EdD)                                                 uint8\n",
      " 33  education_High school graduate                                                      uint8\n",
      " 34  education_Less than 1st grade                                                       uint8\n",
      " 35  education_Masters degree(MA MS MEng MEd MSW MBA)                                    uint8\n",
      " 36  education_Prof school degree (MD DDS DVM LLB JD)                                    uint8\n",
      " 37  education_Some college but no degree                                                uint8\n",
      " 38  enroll in edu inst last wk_College or university                                    uint8\n",
      " 39  enroll in edu inst last wk_High school                                              uint8\n",
      " 40  enroll in edu inst last wk_Not in universe                                          uint8\n",
      " 41  marital stat_Divorced                                                               uint8\n",
      " 42  marital stat_Married-A F spouse present                                             uint8\n",
      " 43  marital stat_Married-civilian spouse present                                        uint8\n",
      " 44  marital stat_Married-spouse absent                                                  uint8\n",
      " 45  marital stat_Never married                                                          uint8\n",
      " 46  marital stat_Separated                                                              uint8\n",
      " 47  marital stat_Widowed                                                                uint8\n",
      " 48  major industry code_Agriculture                                                     uint8\n",
      " 49  major industry code_Armed Forces                                                    uint8\n",
      " 50  major industry code_Business and repair services                                    uint8\n",
      " 51  major industry code_Communications                                                  uint8\n",
      " 52  major industry code_Construction                                                    uint8\n",
      " 53  major industry code_Education                                                       uint8\n",
      " 54  major industry code_Entertainment                                                   uint8\n",
      " 55  major industry code_Finance insurance and real estate                               uint8\n",
      " 56  major industry code_Forestry and fisheries                                          uint8\n",
      " 57  major industry code_Hospital services                                               uint8\n",
      " 58  major industry code_Manufacturing-durable goods                                     uint8\n",
      " 59  major industry code_Manufacturing-nondurable goods                                  uint8\n",
      " 60  major industry code_Medical except hospital                                         uint8\n",
      " 61  major industry code_Mining                                                          uint8\n",
      " 62  major industry code_Not in universe or children                                     uint8\n",
      " 63  major industry code_Other professional services                                     uint8\n",
      " 64  major industry code_Personal services except private HH                             uint8\n",
      " 65  major industry code_Private household services                                      uint8\n",
      " 66  major industry code_Public administration                                           uint8\n",
      " 67  major industry code_Retail trade                                                    uint8\n",
      " 68  major industry code_Social services                                                 uint8\n",
      " 69  major industry code_Transportation                                                  uint8\n",
      " 70  major industry code_Utilities and sanitary services                                 uint8\n",
      " 71  major industry code_Wholesale trade                                                 uint8\n",
      " 72  major occupation code_Adm support including clerical                                uint8\n",
      " 73  major occupation code_Armed Forces                                                  uint8\n",
      " 74  major occupation code_Executive admin and managerial                                uint8\n",
      " 75  major occupation code_Farming forestry and fishing                                  uint8\n",
      " 76  major occupation code_Handlers equip cleaners etc                                   uint8\n",
      " 77  major occupation code_Machine operators assmblrs & inspctrs                         uint8\n",
      " 78  major occupation code_Not in universe                                               uint8\n",
      " 79  major occupation code_Other service                                                 uint8\n",
      " 80  major occupation code_Precision production craft & repair                           uint8\n",
      " 81  major occupation code_Private household services                                    uint8\n",
      " 82  major occupation code_Professional specialty                                        uint8\n",
      " 83  major occupation code_Protective services                                           uint8\n",
      " 84  major occupation code_Sales                                                         uint8\n",
      " 85  major occupation code_Technicians and related support                               uint8\n",
      " 86  major occupation code_Transportation and material moving                            uint8\n",
      " 87  race_Amer Indian Aleut or Eskimo                                                    uint8\n",
      " 88  race_Asian or Pacific Islander                                                      uint8\n",
      " 89  race_Black                                                                          uint8\n",
      " 90  race_Other                                                                          uint8\n",
      " 91  race_White                                                                          uint8\n",
      " 92  hispanic origin_All other                                                           uint8\n",
      " 93  hispanic origin_Central or South American                                           uint8\n",
      " 94  hispanic origin_Chicano                                                             uint8\n",
      " 95  hispanic origin_Cuban                                                               uint8\n",
      " 96  hispanic origin_Do not know                                                         uint8\n",
      " 97  hispanic origin_Mexican (Mexicano)                                                  uint8\n",
      " 98  hispanic origin_Mexican-American                                                    uint8\n",
      " 99  hispanic origin_Other Spanish                                                       uint8\n",
      " 100 hispanic origin_Puerto Rican                                                        uint8\n",
      " 101 sex_Female                                                                          uint8\n",
      " 102 sex_Male                                                                            uint8\n",
      " 103 member of a labor union_No                                                          uint8\n",
      " 104 member of a labor union_Not in universe                                             uint8\n",
      " 105 member of a labor union_Yes                                                         uint8\n",
      " 106 reason for unemployment_Job leaver                                                  uint8\n",
      " 107 reason for unemployment_Job loser - on layoff                                       uint8\n",
      " 108 reason for unemployment_New entrant                                                 uint8\n",
      " 109 reason for unemployment_Not in universe                                             uint8\n",
      " 110 reason for unemployment_Other job loser                                             uint8\n",
      " 111 reason for unemployment_Re-entrant                                                  uint8\n",
      " 112 full or part time employment stat_Children or Armed Forces                          uint8\n",
      " 113 full or part time employment stat_Full-time schedules                               uint8\n",
      " 114 full or part time employment stat_Not in labor force                                uint8\n",
      " 115 full or part time employment stat_PT for econ reasons usually FT                    uint8\n",
      " 116 full or part time employment stat_PT for econ reasons usually PT                    uint8\n",
      " 117 full or part time employment stat_PT for non-econ reasons usually FT                uint8\n",
      " 118 full or part time employment stat_Unemployed full-time                              uint8\n",
      " 119 full or part time employment stat_Unemployed part- time                             uint8\n",
      " 120 tax filer stat_Head of household                                                    uint8\n",
      " 121 tax filer stat_Joint both 65+                                                       uint8\n",
      " 122 tax filer stat_Joint both under 65                                                  uint8\n",
      " 123 tax filer stat_Joint one under 65 & one 65+                                         uint8\n",
      " 124 tax filer stat_Nonfiler                                                             uint8\n",
      " 125 tax filer stat_Single                                                               uint8\n",
      " 126 region of previous residence_Abroad                                                 uint8\n",
      " 127 region of previous residence_Midwest                                                uint8\n",
      " 128 region of previous residence_Northeast                                              uint8\n",
      " 129 region of previous residence_Not in universe                                        uint8\n",
      " 130 region of previous residence_South                                                  uint8\n",
      " 131 region of previous residence_West                                                   uint8\n",
      " 132 state of previous residence_Abroad                                                  uint8\n",
      " 133 state of previous residence_Alabama                                                 uint8\n",
      " 134 state of previous residence_Alaska                                                  uint8\n",
      " 135 state of previous residence_Arizona                                                 uint8\n",
      " 136 state of previous residence_Arkansas                                                uint8\n",
      " 137 state of previous residence_California                                              uint8\n",
      " 138 state of previous residence_Colorado                                                uint8\n",
      " 139 state of previous residence_Connecticut                                             uint8\n",
      " 140 state of previous residence_Delaware                                                uint8\n",
      " 141 state of previous residence_District of Columbia                                    uint8\n",
      " 142 state of previous residence_Florida                                                 uint8\n",
      " 143 state of previous residence_Georgia                                                 uint8\n",
      " 144 state of previous residence_Idaho                                                   uint8\n",
      " 145 state of previous residence_Illinois                                                uint8\n",
      " 146 state of previous residence_Indiana                                                 uint8\n",
      " 147 state of previous residence_Iowa                                                    uint8\n",
      " 148 state of previous residence_Kansas                                                  uint8\n",
      " 149 state of previous residence_Kentucky                                                uint8\n",
      " 150 state of previous residence_Louisiana                                               uint8\n",
      " 151 state of previous residence_Maine                                                   uint8\n",
      " 152 state of previous residence_Maryland                                                uint8\n",
      " 153 state of previous residence_Massachusetts                                           uint8\n",
      " 154 state of previous residence_Michigan                                                uint8\n",
      " 155 state of previous residence_Minnesota                                               uint8\n",
      " 156 state of previous residence_Mississippi                                             uint8\n",
      " 157 state of previous residence_Missouri                                                uint8\n",
      " 158 state of previous residence_Montana                                                 uint8\n",
      " 159 state of previous residence_Nebraska                                                uint8\n",
      " 160 state of previous residence_Nevada                                                  uint8\n",
      " 161 state of previous residence_New Hampshire                                           uint8\n",
      " 162 state of previous residence_New Jersey                                              uint8\n",
      " 163 state of previous residence_New Mexico                                              uint8\n",
      " 164 state of previous residence_New York                                                uint8\n",
      " 165 state of previous residence_North Carolina                                          uint8\n",
      " 166 state of previous residence_North Dakota                                            uint8\n",
      " 167 state of previous residence_Not in universe                                         uint8\n",
      " 168 state of previous residence_Ohio                                                    uint8\n",
      " 169 state of previous residence_Oklahoma                                                uint8\n",
      " 170 state of previous residence_Oregon                                                  uint8\n",
      " 171 state of previous residence_Pennsylvania                                            uint8\n",
      " 172 state of previous residence_South Carolina                                          uint8\n",
      " 173 state of previous residence_South Dakota                                            uint8\n",
      " 174 state of previous residence_Tennessee                                               uint8\n",
      " 175 state of previous residence_Texas                                                   uint8\n",
      " 176 state of previous residence_Utah                                                    uint8\n",
      " 177 state of previous residence_Vermont                                                 uint8\n",
      " 178 state of previous residence_Virginia                                                uint8\n",
      " 179 state of previous residence_West Virginia                                           uint8\n",
      " 180 state of previous residence_Wisconsin                                               uint8\n",
      " 181 state of previous residence_Wyoming                                                 uint8\n",
      " 182 detailed household and family stat_Child 18+ ever marr Not in a subfamily           uint8\n",
      " 183 detailed household and family stat_Child 18+ ever marr RP of subfamily              uint8\n",
      " 184 detailed household and family stat_Child 18+ never marr Not in a subfamily          uint8\n",
      " 185 detailed household and family stat_Child 18+ never marr RP of subfamily             uint8\n",
      " 186 detailed household and family stat_Child 18+ spouse of subfamily RP                 uint8\n",
      " 187 detailed household and family stat_Child <18 ever marr RP of subfamily              uint8\n",
      " 188 detailed household and family stat_Child <18 ever marr not in subfamily             uint8\n",
      " 189 detailed household and family stat_Child <18 never marr RP of subfamily             uint8\n",
      " 190 detailed household and family stat_Child <18 never marr not in subfamily            uint8\n",
      " 191 detailed household and family stat_Child <18 spouse of subfamily RP                 uint8\n",
      " 192 detailed household and family stat_Child under 18 of RP of unrel subfamily          uint8\n",
      " 193 detailed household and family stat_Grandchild 18+ ever marr RP of subfamily         uint8\n",
      " 194 detailed household and family stat_Grandchild 18+ ever marr not in subfamily        uint8\n",
      " 195 detailed household and family stat_Grandchild 18+ never marr RP of subfamily        uint8\n",
      " 196 detailed household and family stat_Grandchild 18+ never marr not in subfamily       uint8\n",
      " 197 detailed household and family stat_Grandchild 18+ spouse of subfamily RP            uint8\n",
      " 198 detailed household and family stat_Grandchild <18 never marr RP of subfamily        uint8\n",
      " 199 detailed household and family stat_Grandchild <18 never marr child of subfamily RP  uint8\n",
      " 200 detailed household and family stat_Grandchild <18 never marr not in subfamily       uint8\n",
      " 201 detailed household and family stat_Householder                                      uint8\n",
      " 202 detailed household and family stat_In group quarters                                uint8\n",
      " 203 detailed household and family stat_Nonfamily householder                            uint8\n",
      " 204 detailed household and family stat_Other Rel 18+ ever marr RP of subfamily          uint8\n",
      " 205 detailed household and family stat_Other Rel 18+ ever marr not in subfamily         uint8\n",
      " 206 detailed household and family stat_Other Rel 18+ never marr RP of subfamily         uint8\n",
      " 207 detailed household and family stat_Other Rel 18+ never marr not in subfamily        uint8\n",
      " 208 detailed household and family stat_Other Rel 18+ spouse of subfamily RP             uint8\n",
      " 209 detailed household and family stat_Other Rel <18 ever marr RP of subfamily          uint8\n",
      " 210 detailed household and family stat_Other Rel <18 ever marr not in subfamily         uint8\n",
      " 211 detailed household and family stat_Other Rel <18 never marr child of subfamily RP   uint8\n",
      " 212 detailed household and family stat_Other Rel <18 never marr not in subfamily        uint8\n",
      " 213 detailed household and family stat_Other Rel <18 never married RP of subfamily      uint8\n",
      " 214 detailed household and family stat_Other Rel <18 spouse of subfamily RP             uint8\n",
      " 215 detailed household and family stat_RP of unrelated subfamily                        uint8\n",
      " 216 detailed household and family stat_Secondary individual                             uint8\n",
      " 217 detailed household and family stat_Spouse of RP of unrelated subfamily              uint8\n",
      " 218 detailed household and family stat_Spouse of householder                            uint8\n",
      " 219 detailed household summary in household_Child 18 or older                           uint8\n",
      " 220 detailed household summary in household_Child under 18 ever married                 uint8\n",
      " 221 detailed household summary in household_Child under 18 never married                uint8\n",
      " 222 detailed household summary in household_Group Quarters- Secondary individual        uint8\n",
      " 223 detailed household summary in household_Householder                                 uint8\n",
      " 224 detailed household summary in household_Nonrelative of householder                  uint8\n",
      " 225 detailed household summary in household_Other relative of householder               uint8\n",
      " 226 detailed household summary in household_Spouse of householder                       uint8\n",
      " 227 migration code-change in msa_Abroad to MSA                                          uint8\n",
      " 228 migration code-change in msa_Abroad to nonMSA                                       uint8\n",
      " 229 migration code-change in msa_MSA to MSA                                             uint8\n",
      " 230 migration code-change in msa_MSA to nonMSA                                          uint8\n",
      " 231 migration code-change in msa_NonMSA to MSA                                          uint8\n",
      " 232 migration code-change in msa_NonMSA to nonMSA                                       uint8\n",
      " 233 migration code-change in msa_Nonmover                                               uint8\n",
      " 234 migration code-change in msa_Not identifiable                                       uint8\n",
      " 235 migration code-change in msa_Not in universe                                        uint8\n",
      " 236 migration code-change in reg_Abroad                                                 uint8\n",
      " 237 migration code-change in reg_Different county same state                            uint8\n",
      " 238 migration code-change in reg_Different division same region                         uint8\n",
      " 239 migration code-change in reg_Different region                                       uint8\n",
      " 240 migration code-change in reg_Different state same division                          uint8\n",
      " 241 migration code-change in reg_Nonmover                                               uint8\n",
      " 242 migration code-change in reg_Not in universe                                        uint8\n",
      " 243 migration code-change in reg_Same county                                            uint8\n",
      " 244 migration code-move within reg_Abroad                                               uint8\n",
      " 245 migration code-move within reg_Different county same state                          uint8\n",
      " 246 migration code-move within reg_Different state in Midwest                           uint8\n",
      " 247 migration code-move within reg_Different state in Northeast                         uint8\n",
      " 248 migration code-move within reg_Different state in South                             uint8\n",
      " 249 migration code-move within reg_Different state in West                              uint8\n",
      " 250 migration code-move within reg_Nonmover                                             uint8\n",
      " 251 migration code-move within reg_Not in universe                                      uint8\n",
      " 252 migration code-move within reg_Same county                                          uint8\n",
      " 253 live in this house 1 year ago_No                                                    uint8\n",
      " 254 live in this house 1 year ago_Not in universe under 1 year old                      uint8\n",
      " 255 live in this house 1 year ago_Yes                                                   uint8\n",
      " 256 migration prev res in sunbelt_No                                                    uint8\n",
      " 257 migration prev res in sunbelt_Not in universe                                       uint8\n",
      " 258 migration prev res in sunbelt_Yes                                                   uint8\n",
      " 259 family members under 18_Both parents present                                        uint8\n",
      " 260 family members under 18_Father only present                                         uint8\n",
      " 261 family members under 18_Mother only present                                         uint8\n",
      " 262 family members under 18_Neither parent present                                      uint8\n",
      " 263 family members under 18_Not in universe                                             uint8\n",
      " 264 country of birth father_Cambodia                                                    uint8\n",
      " 265 country of birth father_Canada                                                      uint8\n",
      " 266 country of birth father_China                                                       uint8\n",
      " 267 country of birth father_Columbia                                                    uint8\n",
      " 268 country of birth father_Cuba                                                        uint8\n",
      " 269 country of birth father_Dominican-Republic                                          uint8\n",
      " 270 country of birth father_Ecuador                                                     uint8\n",
      " 271 country of birth father_El-Salvador                                                 uint8\n",
      " 272 country of birth father_England                                                     uint8\n",
      " 273 country of birth father_France                                                      uint8\n",
      " 274 country of birth father_Germany                                                     uint8\n",
      " 275 country of birth father_Greece                                                      uint8\n",
      " 276 country of birth father_Guatemala                                                   uint8\n",
      " 277 country of birth father_Haiti                                                       uint8\n",
      " 278 country of birth father_Holand-Netherlands                                          uint8\n",
      " 279 country of birth father_Honduras                                                    uint8\n",
      " 280 country of birth father_Hong Kong                                                   uint8\n",
      " 281 country of birth father_Hungary                                                     uint8\n",
      " 282 country of birth father_India                                                       uint8\n",
      " 283 country of birth father_Iran                                                        uint8\n",
      " 284 country of birth father_Ireland                                                     uint8\n",
      " 285 country of birth father_Italy                                                       uint8\n",
      " 286 country of birth father_Jamaica                                                     uint8\n",
      " 287 country of birth father_Japan                                                       uint8\n",
      " 288 country of birth father_Laos                                                        uint8\n",
      " 289 country of birth father_Mexico                                                      uint8\n",
      " 290 country of birth father_Nicaragua                                                   uint8\n",
      " 291 country of birth father_Outlying-U S (Guam USVI etc)                                uint8\n",
      " 292 country of birth father_Panama                                                      uint8\n",
      " 293 country of birth father_Peru                                                        uint8\n",
      " 294 country of birth father_Philippines                                                 uint8\n",
      " 295 country of birth father_Poland                                                      uint8\n",
      " 296 country of birth father_Portugal                                                    uint8\n",
      " 297 country of birth father_Puerto-Rico                                                 uint8\n",
      " 298 country of birth father_Scotland                                                    uint8\n",
      " 299 country of birth father_South Korea                                                 uint8\n",
      " 300 country of birth father_Taiwan                                                      uint8\n",
      " 301 country of birth father_Thailand                                                    uint8\n",
      " 302 country of birth father_Trinadad&Tobago                                             uint8\n",
      " 303 country of birth father_United-States                                               uint8\n",
      " 304 country of birth father_Vietnam                                                     uint8\n",
      " 305 country of birth father_Yugoslavia                                                  uint8\n",
      " 306 country of birth mother_Cambodia                                                    uint8\n",
      " 307 country of birth mother_Canada                                                      uint8\n",
      " 308 country of birth mother_China                                                       uint8\n",
      " 309 country of birth mother_Columbia                                                    uint8\n",
      " 310 country of birth mother_Cuba                                                        uint8\n",
      " 311 country of birth mother_Dominican-Republic                                          uint8\n",
      " 312 country of birth mother_Ecuador                                                     uint8\n",
      " 313 country of birth mother_El-Salvador                                                 uint8\n",
      " 314 country of birth mother_England                                                     uint8\n",
      " 315 country of birth mother_France                                                      uint8\n",
      " 316 country of birth mother_Germany                                                     uint8\n",
      " 317 country of birth mother_Greece                                                      uint8\n",
      " 318 country of birth mother_Guatemala                                                   uint8\n",
      " 319 country of birth mother_Haiti                                                       uint8\n",
      " 320 country of birth mother_Holand-Netherlands                                          uint8\n",
      " 321 country of birth mother_Honduras                                                    uint8\n",
      " 322 country of birth mother_Hong Kong                                                   uint8\n",
      " 323 country of birth mother_Hungary                                                     uint8\n",
      " 324 country of birth mother_India                                                       uint8\n",
      " 325 country of birth mother_Iran                                                        uint8\n",
      " 326 country of birth mother_Ireland                                                     uint8\n",
      " 327 country of birth mother_Italy                                                       uint8\n",
      " 328 country of birth mother_Jamaica                                                     uint8\n",
      " 329 country of birth mother_Japan                                                       uint8\n",
      " 330 country of birth mother_Laos                                                        uint8\n",
      " 331 country of birth mother_Mexico                                                      uint8\n",
      " 332 country of birth mother_Nicaragua                                                   uint8\n",
      " 333 country of birth mother_Outlying-U S (Guam USVI etc)                                uint8\n",
      " 334 country of birth mother_Panama                                                      uint8\n",
      " 335 country of birth mother_Peru                                                        uint8\n",
      " 336 country of birth mother_Philippines                                                 uint8\n",
      " 337 country of birth mother_Poland                                                      uint8\n",
      " 338 country of birth mother_Portugal                                                    uint8\n",
      " 339 country of birth mother_Puerto-Rico                                                 uint8\n",
      " 340 country of birth mother_Scotland                                                    uint8\n",
      " 341 country of birth mother_South Korea                                                 uint8\n",
      " 342 country of birth mother_Taiwan                                                      uint8\n",
      " 343 country of birth mother_Thailand                                                    uint8\n",
      " 344 country of birth mother_Trinadad&Tobago                                             uint8\n",
      " 345 country of birth mother_United-States                                               uint8\n",
      " 346 country of birth mother_Vietnam                                                     uint8\n",
      " 347 country of birth mother_Yugoslavia                                                  uint8\n",
      " 348 country of birth self_Cambodia                                                      uint8\n",
      " 349 country of birth self_Canada                                                        uint8\n",
      " 350 country of birth self_China                                                         uint8\n",
      " 351 country of birth self_Columbia                                                      uint8\n",
      " 352 country of birth self_Cuba                                                          uint8\n",
      " 353 country of birth self_Dominican-Republic                                            uint8\n",
      " 354 country of birth self_Ecuador                                                       uint8\n",
      " 355 country of birth self_El-Salvador                                                   uint8\n",
      " 356 country of birth self_England                                                       uint8\n",
      " 357 country of birth self_France                                                        uint8\n",
      " 358 country of birth self_Germany                                                       uint8\n",
      " 359 country of birth self_Greece                                                        uint8\n",
      " 360 country of birth self_Guatemala                                                     uint8\n",
      " 361 country of birth self_Haiti                                                         uint8\n",
      " 362 country of birth self_Holand-Netherlands                                            uint8\n",
      " 363 country of birth self_Honduras                                                      uint8\n",
      " 364 country of birth self_Hong Kong                                                     uint8\n",
      " 365 country of birth self_Hungary                                                       uint8\n",
      " 366 country of birth self_India                                                         uint8\n",
      " 367 country of birth self_Iran                                                          uint8\n",
      " 368 country of birth self_Ireland                                                       uint8\n",
      " 369 country of birth self_Italy                                                         uint8\n",
      " 370 country of birth self_Jamaica                                                       uint8\n",
      " 371 country of birth self_Japan                                                         uint8\n",
      " 372 country of birth self_Laos                                                          uint8\n",
      " 373 country of birth self_Mexico                                                        uint8\n",
      " 374 country of birth self_Nicaragua                                                     uint8\n",
      " 375 country of birth self_Outlying-U S (Guam USVI etc)                                  uint8\n",
      " 376 country of birth self_Panama                                                        uint8\n",
      " 377 country of birth self_Peru                                                          uint8\n",
      " 378 country of birth self_Philippines                                                   uint8\n",
      " 379 country of birth self_Poland                                                        uint8\n",
      " 380 country of birth self_Portugal                                                      uint8\n",
      " 381 country of birth self_Puerto-Rico                                                   uint8\n",
      " 382 country of birth self_Scotland                                                      uint8\n",
      " 383 country of birth self_South Korea                                                   uint8\n",
      " 384 country of birth self_Taiwan                                                        uint8\n",
      " 385 country of birth self_Thailand                                                      uint8\n",
      " 386 country of birth self_Trinadad&Tobago                                               uint8\n",
      " 387 country of birth self_United-States                                                 uint8\n",
      " 388 country of birth self_Vietnam                                                       uint8\n",
      " 389 country of birth self_Yugoslavia                                                    uint8\n",
      " 390 citizenship_Foreign born- Not a citizen of U S                                      uint8\n",
      " 391 citizenship_Foreign born- U S citizen by naturalization                             uint8\n",
      " 392 citizenship_Native- Born abroad of American Parent(s)                               uint8\n",
      " 393 citizenship_Native- Born in Puerto Rico or U S Outlying                             uint8\n",
      " 394 citizenship_Native- Born in the United States                                       uint8\n",
      " 395 fill inc questionnaire for veteran's admin_No                                       uint8\n",
      " 396 fill inc questionnaire for veteran's admin_Not in universe                          uint8\n",
      " 397 fill inc questionnaire for veteran's admin_Yes                                      uint8\n",
      " 398 Y                                                                                   uint8\n",
      "dtypes: int64(12), uint8(387)\n",
      "memory usage: 91.9 MB\n"
     ]
    },
    {
     "data": {
      "application/javascript": [
       "\n",
       "            setTimeout(function() {\n",
       "                var nbb_cell_id = 9;\n",
       "                var nbb_unformatted_code = \"dfs2[\\\"train\\\"].info(verbose=True)\";\n",
       "                var nbb_formatted_code = \"dfs2[\\\"train\\\"].info(verbose=True)\";\n",
       "                var nbb_cells = Jupyter.notebook.get_cells();\n",
       "                for (var i = 0; i < nbb_cells.length; ++i) {\n",
       "                    if (nbb_cells[i].input_prompt_number == nbb_cell_id) {\n",
       "                        if (nbb_cells[i].get_text() == nbb_unformatted_code) {\n",
       "                             nbb_cells[i].set_text(nbb_formatted_code);\n",
       "                        }\n",
       "                        break;\n",
       "                    }\n",
       "                }\n",
       "            }, 500);\n",
       "            "
      ],
      "text/plain": [
       "<IPython.core.display.Javascript object>"
      ]
     },
     "metadata": {},
     "output_type": "display_data"
    }
   ],
   "source": [
    "dfs2[\"train\"].info(verbose=True)"
   ]
  },
  {
   "cell_type": "markdown",
   "metadata": {},
   "source": [
    "Ok we have our basis data set now with each field category in a binary feature. The training set has no NA's but the test set has. That will result in features that have all zeroes for their field category flags. \n",
    "\n",
    "E.g. this table:\n",
    "\n",
    "| # | colour |\n",
    "|---|--------|\n",
    "| 0 | red    |\n",
    "| 1 | green  |\n",
    "| 2 | NaN    |\n",
    "\n",
    "Will become:\n",
    "\n",
    "| # | colour_red | colour_green |\n",
    "|---|------------|--------------|\n",
    "| 0 | 1          | 0            |\n",
    "| 1 | 0          | 1            |\n",
    "| 2 | 0          | 0            |\n",
    "\n",
    "Which is good for classification."
   ]
  },
  {
   "cell_type": "markdown",
   "metadata": {},
   "source": [
    "Next we create X and Y values for training."
   ]
  },
  {
   "cell_type": "code",
   "execution_count": 10,
   "metadata": {},
   "outputs": [
    {
     "data": {
      "application/javascript": [
       "\n",
       "            setTimeout(function() {\n",
       "                var nbb_cell_id = 10;\n",
       "                var nbb_unformatted_code = \"X_train = dfs2[\\\"train\\\"].drop(\\\"Y\\\", axis=1)\\ny_train = dfs2[\\\"train\\\"][\\\"Y\\\"]\\nX_test = dfs2[\\\"test\\\"]\";\n",
       "                var nbb_formatted_code = \"X_train = dfs2[\\\"train\\\"].drop(\\\"Y\\\", axis=1)\\ny_train = dfs2[\\\"train\\\"][\\\"Y\\\"]\\nX_test = dfs2[\\\"test\\\"]\";\n",
       "                var nbb_cells = Jupyter.notebook.get_cells();\n",
       "                for (var i = 0; i < nbb_cells.length; ++i) {\n",
       "                    if (nbb_cells[i].input_prompt_number == nbb_cell_id) {\n",
       "                        if (nbb_cells[i].get_text() == nbb_unformatted_code) {\n",
       "                             nbb_cells[i].set_text(nbb_formatted_code);\n",
       "                        }\n",
       "                        break;\n",
       "                    }\n",
       "                }\n",
       "            }, 500);\n",
       "            "
      ],
      "text/plain": [
       "<IPython.core.display.Javascript object>"
      ]
     },
     "metadata": {},
     "output_type": "display_data"
    }
   ],
   "source": [
    "X_train = dfs2[\"train\"].drop(\"Y\", axis=1)\n",
    "y_train = dfs2[\"train\"][\"Y\"]\n",
    "X_test = dfs2[\"test\"]"
   ]
  },
  {
   "cell_type": "markdown",
   "metadata": {},
   "source": [
    "Now save these data sets"
   ]
  },
  {
   "cell_type": "code",
   "execution_count": 11,
   "metadata": {},
   "outputs": [
    {
     "data": {
      "application/javascript": [
       "\n",
       "            setTimeout(function() {\n",
       "                var nbb_cell_id = 11;\n",
       "                var nbb_unformatted_code = \"X_train.to_csv(\\\"x_train.csv\\\", index_label=\\\"Index\\\")\\ny_train.to_csv(\\\"y_train.csv\\\", index_label=\\\"Index\\\")\\nX_test.to_csv(\\\"x_test.csv\\\", index_label=\\\"Index\\\")\";\n",
       "                var nbb_formatted_code = \"X_train.to_csv(\\\"x_train.csv\\\", index_label=\\\"Index\\\")\\ny_train.to_csv(\\\"y_train.csv\\\", index_label=\\\"Index\\\")\\nX_test.to_csv(\\\"x_test.csv\\\", index_label=\\\"Index\\\")\";\n",
       "                var nbb_cells = Jupyter.notebook.get_cells();\n",
       "                for (var i = 0; i < nbb_cells.length; ++i) {\n",
       "                    if (nbb_cells[i].input_prompt_number == nbb_cell_id) {\n",
       "                        if (nbb_cells[i].get_text() == nbb_unformatted_code) {\n",
       "                             nbb_cells[i].set_text(nbb_formatted_code);\n",
       "                        }\n",
       "                        break;\n",
       "                    }\n",
       "                }\n",
       "            }, 500);\n",
       "            "
      ],
      "text/plain": [
       "<IPython.core.display.Javascript object>"
      ]
     },
     "metadata": {},
     "output_type": "display_data"
    }
   ],
   "source": [
    "X_train.to_csv(\"x_train.csv\", index_label=\"Index\")\n",
    "y_train.to_csv(\"y_train.csv\", index_label=\"Index\")\n",
    "X_test.to_csv(\"x_test.csv\", index_label=\"Index\")"
   ]
  },
  {
   "cell_type": "markdown",
   "metadata": {
    "colab_type": "text",
    "id": "TcPP2RqkdP0Z"
   },
   "source": []
  }
 ],
 "metadata": {
  "colab": {
   "collapsed_sections": [],
   "name": "Untitled0.ipynb",
   "provenance": []
  },
  "kernelspec": {
   "display_name": "Python 3",
   "language": "python",
   "name": "python3"
  },
  "language_info": {
   "codemirror_mode": {
    "name": "ipython",
    "version": 3
   },
   "file_extension": ".py",
   "mimetype": "text/x-python",
   "name": "python",
   "nbconvert_exporter": "python",
   "pygments_lexer": "ipython3",
   "version": "3.7.7"
  }
 },
 "nbformat": 4,
 "nbformat_minor": 1
}
