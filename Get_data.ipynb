{
 "cells": [
  {
   "cell_type": "code",
   "execution_count": 1,
   "metadata": {},
   "outputs": [
    {
     "name": "stdout",
     "output_type": "stream",
     "text": [
      "ref                                                                deadline             category             reward  teamCount  userHasEntered  \r\n",
      "-----------------------------------------------------------------  -------------------  ---------------  ----------  ---------  --------------  \r\n",
      "digit-recognizer                                                   2030-01-01 00:00:00  Getting Started   Knowledge       2268           False  \r\n",
      "titanic                                                            2030-01-01 00:00:00  Getting Started   Knowledge      16567           False  \r\n",
      "house-prices-advanced-regression-techniques                        2030-01-01 00:00:00  Getting Started   Knowledge       4614            True  \r\n",
      "connectx                                                           2030-01-01 00:00:00  Getting Started   Knowledge        359           False  \r\n",
      "competitive-data-science-predict-future-sales                      2020-12-31 23:59:00  Playground            Kudos       5936           False  \r\n",
      "m5-forecasting-accuracy                                            2020-06-30 23:59:00  Featured            $50,000        663           False  \r\n",
      "m5-forecasting-uncertainty                                         2020-06-30 23:59:00  Featured            $50,000          9           False  \r\n",
      "abstraction-and-reasoning-challenge                                2020-05-27 23:59:00  Research            $20,000        369           False  \r\n",
      "liverpool-ion-switching                                            2020-05-25 23:59:00  Research            $25,000        816           False  \r\n",
      "flower-classification-with-tpus                                    2020-05-11 23:59:00  Playground           Prizes        329           False  \r\n",
      "iwildcam-2020-fgvc7                                                2020-05-11 23:59:00  Research          Knowledge          6           False  \r\n",
      "herbarium-2020-fgvc7                                               2020-05-11 23:59:00  Research          Knowledge          9           False  \r\n",
      "plant-pathology-2020-fgvc7                                         2020-05-11 23:59:00  Research          Knowledge         55           False  \r\n",
      "march-madness-analytics-2020                                       2020-04-06 23:59:00  Analytics           $25,000          0           False  \r\n",
      "deepfake-detection-challenge                                       2020-03-31 23:59:00  Featured         $1,000,000       2091           False  \r\n",
      "cat-in-the-dat-ii                                                  2020-03-31 23:59:00  Playground             Swag        883           False  \r\n",
      "imagenet-object-localization-challenge                             2020-03-26 23:59:00  Research          Knowledge         67           False  \r\n",
      "ds4g-environmental-insights-explorer                               2020-03-24 23:59:00  Analytics           $25,000          0           False  \r\n",
      "nlp-getting-started                                                2020-03-23 23:59:00  Getting Started     $10,000       3355           False  \r\n",
      "google-cloud-ncaa-march-madness-2020-division-1-womens-tournament  2020-03-20 15:00:00  Featured            $25,000        390           False  \r\n"
     ]
    }
   ],
   "source": [
    "!kaggle competitions list"
   ]
  },
  {
   "cell_type": "code",
   "execution_count": 2,
   "metadata": {},
   "outputs": [
    {
     "name": "stdout",
     "output_type": "stream",
     "text": [
      "Downloading ml-challenge-week6.zip to /Users/jeroen/Projects/Python/ml_jup/MLC\n",
      " 94%|███████████████████████████████████▊  | 10.0M/10.6M [00:01<00:00, 7.58MB/s]\n",
      "100%|██████████████████████████████████████| 10.6M/10.6M [00:01<00:00, 7.51MB/s]\n"
     ]
    }
   ],
   "source": [
    "!kaggle competitions download -c ml-challenge-week6 --force"
   ]
  },
  {
   "cell_type": "code",
   "execution_count": 3,
   "metadata": {},
   "outputs": [
    {
     "name": "stdout",
     "output_type": "stream",
     "text": [
      "Archive:  ml-challenge-week6.zip\n",
      "  inflating: census-income.data      \n",
      "  inflating: census-income.names     \n",
      "  inflating: census-income.test      \n",
      "  inflating: sampleSubmission.csv    \n"
     ]
    }
   ],
   "source": [
    "!unzip -o ml-challenge-week6.zip"
   ]
  }
 ],
 "metadata": {
  "kernelspec": {
   "display_name": "Python 3",
   "language": "python",
   "name": "python3"
  },
  "language_info": {
   "codemirror_mode": {
    "name": "ipython",
    "version": 3
   },
   "file_extension": ".py",
   "mimetype": "text/x-python",
   "name": "python",
   "nbconvert_exporter": "python",
   "pygments_lexer": "ipython3",
   "version": "3.7.7"
  }
 },
 "nbformat": 4,
 "nbformat_minor": 4
}
